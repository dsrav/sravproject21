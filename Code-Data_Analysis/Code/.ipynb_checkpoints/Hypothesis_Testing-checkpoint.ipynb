{
 "cells": [
  {
   "cell_type": "code",
   "execution_count": 1,
   "id": "60f4b9d9",
   "metadata": {},
   "outputs": [
    {
     "name": "stdout",
     "output_type": "stream",
     "text": [
      "T-statistic: nan\n",
      "P-value: nan\n",
      "Fail to reject the null hypothesis - No significant difference.\n"
     ]
    }
   ],
   "source": [
    "import pandas as pd\n",
    "from scipy.stats import ttest_ind\n",
    "\n",
    "# Load the dataset\n",
    "file_path = r'C:\\Users\\dsrav\\Documents\\2Uog files\\data analytics\\Code\\rounded_cleaned_dataset.csv'\n",
    "df = pd.read_csv(file_path)\n",
    "\n",
    "# Separate the data for mobile and fixed networks\n",
    "mobile_data = df[df['net_type'] == 'Mobile']['avg_d_kbps']\n",
    "fixed_data = df[df['net_type'] == 'Fixed']['avg_d_kbps']\n",
    "\n",
    "# Perform a t-test for independent samples\n",
    "t_statistic, p_value = ttest_ind(mobile_data, fixed_data, equal_var=False)\n",
    "\n",
    "# Display the results\n",
    "print(f'T-statistic: {t_statistic}')\n",
    "print(f'P-value: {p_value}')\n",
    "\n",
    "# Check for significance\n",
    "alpha = 0.05\n",
    "if p_value < alpha:\n",
    "    print('Reject the null hypothesis - There is a significant difference.')\n",
    "else:\n",
    "    print('Fail to reject the null hypothesis - No significant difference.')\n"
   ]
  },
  {
   "cell_type": "code",
   "execution_count": 5,
   "id": "abaf4422",
   "metadata": {},
   "outputs": [
    {
     "name": "stdout",
     "output_type": "stream",
     "text": [
      "Missing values in mobile_data: 0\n",
      "Missing values in fixed_data: 0\n"
     ]
    }
   ],
   "source": [
    "print(\"Missing values in mobile_data:\", mobile_data.isnull().sum())\n",
    "print(\"Missing values in fixed_data:\", fixed_data.isnull().sum())\n"
   ]
  },
  {
   "cell_type": "code",
   "execution_count": 6,
   "id": "98a12363",
   "metadata": {},
   "outputs": [
    {
     "name": "stderr",
     "output_type": "stream",
     "text": [
      "No artists with labels found to put in legend.  Note that artists whose label start with an underscore are ignored when legend() is called with no argument.\n"
     ]
    },
    {
     "data": {
      "image/png": "[encoded data removed]",
      "text/plain": [
       "<Figure size 1000x600 with 1 Axes>"
      ]
     },
     "metadata": {},
     "output_type": "display_data"
    }
   ],
   "source": [
    "import matplotlib.pyplot as plt\n",
    "import seaborn as sns\n",
    "\n",
    "plt.figure(figsize=(10, 6))\n",
    "sns.histplot(mobile_data, label='Mobile', kde=True)\n",
    "sns.histplot(fixed_data, label='Fixed', kde=True)\n",
    "plt.legend()\n",
    "plt.show()\n"
   ]
  },
  {
   "cell_type": "code",
   "execution_count": 3,
   "id": "2477786f",
   "metadata": {},
   "outputs": [
    {
     "name": "stdout",
     "output_type": "stream",
     "text": [
      "T-statistic: nan\n",
      "P-value: nan\n",
      "Fail to reject the null hypothesis - No significant difference.\n"
     ]
    }
   ],
   "source": [
    "import pandas as pd\n",
    "from scipy.stats import ttest_ind\n",
    "\n",
    "# Separate the data for mobile and fixed networks\n",
    "mobile_data = df[df['net_type'] == 'Mobile']['avg_d_kbps']\n",
    "fixed_data = df[df['net_type'] == 'Fixed']['avg_d_kbps']\n",
    "\n",
    "# Perform a t-test for independent samples\n",
    "t_statistic, p_value = ttest_ind(mobile_data, fixed_data, equal_var=False)\n",
    "\n",
    "# Display the results\n",
    "print(f'T-statistic: {t_statistic}')\n",
    "print(f'P-value: {p_value}')\n",
    "\n",
    "# Check for significance\n",
    "alpha = 0.05\n",
    "if p_value < alpha:\n",
    "    print('Reject the null hypothesis - There is a significant difference.')\n",
    "else:\n",
    "    print('Fail to reject the null hypothesis - No significant difference.')\n"
   ]
  },
  {
   "cell_type": "code",
   "execution_count": 4,
   "id": "57bc7f99",
   "metadata": {},
   "outputs": [
    {
     "name": "stdout",
     "output_type": "stream",
     "text": [
      "<class 'pandas.core.frame.DataFrame'>\n",
      "RangeIndex: 19020 entries, 0 to 19019\n",
      "Data columns (total 7 columns):\n",
      " #   Column           Non-Null Count  Dtype  \n",
      "---  ------           --------------  -----  \n",
      " 0   Unnamed: 0       19020 non-null  int64  \n",
      " 1   avg_d_kbps       19020 non-null  int64  \n",
      " 2   avg_u_kbps       19020 non-null  int64  \n",
      " 3   avg_lat_ms       19020 non-null  int64  \n",
      " 4   avg_lat_down_ms  19020 non-null  float64\n",
      " 5   avg_lat_up_ms    19020 non-null  float64\n",
      " 6   net_type         19020 non-null  object \n",
      "dtypes: float64(2), int64(4), object(1)\n",
      "memory usage: 1.0+ MB\n"
     ]
    }
   ],
   "source": [
    "df.info()"
   ]
  },
  {
   "cell_type": "code",
   "execution_count": null,
   "id": "7544bb64",
   "metadata": {},
   "outputs": [],
   "source": []
  }
 ],
 "metadata": {
  "kernelspec": {
   "display_name": "Python 3 (ipykernel)",
   "language": "python",
   "name": "python3"
  },
  "language_info": {
   "codemirror_mode": {
    "name": "ipython",
    "version": 3
   },
   "file_extension": ".py",
   "mimetype": "text/x-python",
   "name": "python",
   "nbconvert_exporter": "python",
   "pygments_lexer": "ipython3",
   "version": "3.11.5"
  }
 },
 "nbformat": 4,
 "nbformat_minor": 5
}
